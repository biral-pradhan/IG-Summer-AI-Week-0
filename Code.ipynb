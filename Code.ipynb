'''Note: 

* Before writing any code remember that this assigment is for helping you understand the basics of file
handling in csv file. 

* This project is designed to have a work flow such that everyone is in same page for this purpose the variables are
given a strict name which should not be changed or modified according to your convinience

* Few of new functions like .head() .xticks().... and concepts may have been introduced in the assingment, so we encourage you
all to go through them without skipping.

*  functions which are to be used in the Your code sections are globally available so try to look for those where you have been prompted
'''

'''Its the data of a meal delivery company which operates in multiple cities. 
They have various fulfillment centers in these cities for dispatching meal orders to their customers.
train.csv: Historical data of demand for a product-center combination 
fulfilment_center_info.csv: Information for fulfillment center like center area, city information etc.
meal_info.csv: Product(Meal) features such as category, sub-category, current price and discount'''


'''START CODE'''

#Import necessary libraries: Numpy,pandas,matplotlib

'''************************Your code here**********************'''

'''************************************************************'''
import numpy as np
import pandas as pd
import matplotlib.pyplot as plt
%matplotlib inline


#read meal_info.csv file from provided dataset into a df_meal named variable
#Note: Proper file directory should be provided

'''************************Your code here**********************'''

'''************************************************************'''

df_meal=pd.read_csv(r'D:\IG Summer AI\Week 0\meal_info.csv')

df_meal.head()'''This is for displaying first five data points'''

#read fulfilment_center_info.csv file from provided dataset
#Note: Proper file directory should be provided

'''************************Your code here**********************'''

'''************************************************************'''
df_center=pd.read_csv(r'D:\IG Summer AI\Week 0\fulfilment_center_info.csv')


df_center.head()'''This is for displaying first five data points'''

#read train.csv file from provided dataset
#Note: Proper file directory should be provided

'''************************Your code here**********************'''

'''************************************************************'''
df_food=pd.read_csv(r'D:\IG Summer AI\Week 0\train.csv')

df_food.head()

'''Since the provided information is in different files, your work here is to merge them.Look for the functions
in pandas library to do so'''

'''************************Your code here**********************'''


'''************************************************************'''
df4=pd.merge(df_food, df_meal, how='outer', on='meal_id')
df4.head()

df=pd.merge(df4, df_center, how='outer', on='center_id')
df.head()
'''Here we have used pd.pivot_table() kindly go through the function and mention in comment what it does'''
'''Generates a table from a given dataframe with row labels as values of one particular column from the dataframe,
and corresponding to those labels the values from another column of the data frame is used to fill up the table via some
relation, here which is sum of all entries corresponding to each label'''
table = pd.pivot_table(data=df,index='category',values='num_orders',aggfunc=np.sum)



'''Graph tweaking
************************
Plot a bar graph with title 'Most popular food' for category(x-axis) vs number-of-orders(y-axis)

give x label 'Food items'
give y label 'Quantity sold'


'''

'''************Yourcode*********************'''



#bar graph
table.plot(kind='bar', width=0.8, legend=False)

#xticks 
plt.xticks(rotation=70) '''Write on comment what you feel this function does'''
                        '''Tilts the x labels at the particular angle from the horizontal'''

#x-axis labels 

plt.xlabel('Food Items')

#y-axis labels 

plt.ylabel('Quantity Sold')
#plot title 
plt.title('Most Popular Food')

#save plot 
plt.savefig('Most_popular_food.png')

#display 

plt.show()
'''************************************************'''


'''Comparison of weekly and monthly sales
 Create a new column
* named 'revenue' where each element is product of checkout_price and num_orders 
** named 'month' by using ['week'] column (week column value divided by 4 gives month value)'''



'''**************************Your code******************************'''



'''******************************************************************'''
df['revenue']=df['checkout_price']*df['num_orders']
df['month']=df['week']//4

'''Here we have created two list month and month_order ,
store month number in month list and revenue of each month in month_order'''
#list to store month-wise revenue 
month=[] 
month_order=[]

month=df['month'].unique()
m = pd.pivot_table(data=df,index='month',values='num_orders',aggfunc=np.sum)
month_order=m['num_orders'].unique()

'''***********************************Your code***********************'''

    
'''*********************************************************************'''

'''Here we have created two list week and week_order ,you need to store in them mapping the monthly orders'''    
#list to store week-wise revenue 
week=[] 
week_order=[] 

'''***********************************Your code***********************'''


'''*********************************************************************'''
week=df['week'].unique()
w = pd.pivot_table(data=df,index='week',values='num_orders',aggfunc=np.sum)
week_order=w['num_orders'].unique()

''' Plot two subplots in the same space : one for weekly revenue and other for monthly revenue.
For weekly : Title(Weekly income),x_label(week),y_label(revenue); similarly for monthly revenue.
'''

'''************Yourcode*********************'''

fig = plt.figure(figsize=(20,4.8))
fig.tight_layout()
ax1 = fig.add_subplot(1,2,1)
ax2 = fig.add_subplot(1,2,2)

ax1.plot(month, month_order)
ax2.plot(week, week_order)

ax1.set_xlabel('Month')
ax1.set_ylabel('Revenue')
ax1.set_title("Monthly income")

ax2.set_xlabel('Week')
ax2.set_ylabel('Revenue')
ax2.set_title("Weekly income")
plt.show()

''' Display the plot'''
